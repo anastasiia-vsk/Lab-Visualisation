{
 "cells": [
  {
   "cell_type": "markdown",
   "metadata": {},
   "source": [
    "<h1 align=center><font size = 5>Створення карт за допомогою Python</font></h1>"
   ]
  },
  {
   "cell_type": "markdown",
   "metadata": {},
   "source": [
    "## Вступ\n",
    "\n",
    "В цій лабораторній ми подивимось як можна створювати карти для різних об'єктів та цілей. Ми відійдемр від бібліотеки Matplotlib і попрацюємо з іншою бібліотекою візуалізації у Python **Folium**. **Folium** має єдине призначення - візуалізація геопросторових даних. Є й інші альтернативні бібліотеки візуалізації геопросторових даних, такі як **plotly**, однак вони мають обмежену кількість безкоштовних запитів, в той час як **Folium** є абсолютно безкоштовним. "
   ]
  },
  {
   "cell_type": "markdown",
   "metadata": {},
   "source": [
    "# Дослідження датасетів за допомогою Pandas та Matplotlib<a id=\"0\"></a>\n",
    "\n",
    "Інструментарій: В лабораторній виконується обробка даних за допомогою бібліотек [*pandas*](http://pandas.pydata.org/) та [**Numpy**](http://www.numpy.org/), аналіз та візуалізація. Головною бібліотекою для візуалізації буде [**Folium**](https://github.com/python-visualization/folium/).\n",
    "\n",
    "Опис датасетів (не оптрібно завантажувати з цих посилань):\n",
    "\n",
    "1. Злочини департамента поліції Сан-Франциско за 2016 рік - [Police Department Incidents](https://data.sfgov.org/Public-Safety/Police-Department-Incidents-Previous-Year-2016-/ritf-b9ki) з публічного порталу даних Сан-Франциско. Дані одержані з системі звітності про злочини департамента поліції Сан-Франциско. Адреси та назви локацій були анонімізовані - перенесені у середини кварталу або на перехрестя. \n",
    "\n",
    "2. Іміграційні дані Канади з 1980 до 2013 року - [International migration flows to and from selected countries - The 2015 revision](http://www.un.org/en/development/desa/population/migration/data/empirical2/migrationflows.shtml) з сайту ООН. Датасет містить річні дані про потоки міжнародної міграції, записані за країною призначення. У даних представлена як еміграція так і імміграція населення, з урахуванням місця народження, громадянства та місця попереднього/майбутнього проживання як для громадян, так і для іноземців. "
   ]
  },
  {
   "cell_type": "markdown",
   "metadata": {},
   "source": [
    "# Завантажте та підготуйте дані <a id=\"2\"></a>"
   ]
  },
  {
   "cell_type": "markdown",
   "metadata": {},
   "source": [
    "Імпортуємо основні бібліотеки:"
   ]
  },
  {
   "cell_type": "code",
   "execution_count": null,
   "metadata": {},
   "outputs": [],
   "source": [
    "import numpy as np  \n",
    "import pandas as pd "
   ]
  },
  {
   "cell_type": "markdown",
   "metadata": {},
   "source": [
    "# Вступ до Folium <a id=\"4\"></a>"
   ]
  },
  {
   "cell_type": "markdown",
   "metadata": {},
   "source": [
    "**Folium** це потужна бібліотека Python, яка надає можливість стоворення Leaflet maps (сама карта, тобто її відображення у браузері, реалізовано за домогою бібліотеки javaScript - Leaflet. Звідси й назва) декількох типів. Оскільки такі карти є інтерактивними, їх зручно застосовувати при створенні дешбордів.\n",
    "\n",
    "З офіційної документації **Folium**:\n",
    "\n",
    "> Folium поєднує в собі переваги засобів оброблення інформації Python екосистеми та створення карт на Leaflet.js бібліотеці. Працюйте зі своїми даними у Python та візуалізуйте їх у Leaflet map за допомогою Folium.\n",
    "\n",
    "> Folium дозволяє легко візуалізувати дані, оброблені в Python, у Leaflet map. Він дозволяє приєднати дані до візуалізації у фонових карт."
   ]
  },
  {
   "cell_type": "markdown",
   "metadata": {},
   "source": [
    "#### Давайте інсталюємо **Folium**"
   ]
  },
  {
   "cell_type": "code",
   "execution_count": null,
   "metadata": {},
   "outputs": [],
   "source": [
    "import folium"
   ]
  },
  {
   "cell_type": "markdown",
   "metadata": {},
   "source": [
    "Створення світової карти є простим у **Folium**. Ви можете легко створити об'єкт **Folium** *Map* об'єкт і візуалізувати його. Також, чудовою є їх інтерактивність, тобто ви можете збільшити масштаб карти у будь-якому регіоні, що вас цікавить, не дивлячись на початковий масштаб."
   ]
  },
  {
   "cell_type": "code",
   "execution_count": null,
   "metadata": {},
   "outputs": [],
   "source": [
    "# Визначаємо світову карту\n",
    "world_map = folium.Map()\n",
    "\n",
    "# Відображаємо світову карту\n",
    "world_map"
   ]
  },
  {
   "cell_type": "markdown",
   "metadata": {},
   "source": [
    "Вперед. Спробуйте збільшувати за зменшувати мастаб карти вище, що визначити її максимальні можливості."
   ]
  },
  {
   "cell_type": "markdown",
   "metadata": {},
   "source": [
    "Ви можете кастомізувати початкові значення вашої карти за допомогою встановлення центру карти та масштабу.\n",
    "\n",
    "Всі локації карти визначаються їх відповідними координатами - за широтою та довготою (*Latitude* and *Longitude*). Наприклад, ви можете створити карту та встановити центр по координатам **[0, 0]**.\n",
    "\n",
    "Для цього центру, можна встановити масштаб за дефолтом. Створіть карту з центром у Канаді та пограйтесь з зумом."
   ]
  },
  {
   "cell_type": "code",
   "execution_count": null,
   "metadata": {
    "scrolled": true
   },
   "outputs": [],
   "source": [
    "# визначаємо центр карти світу у Канаді та встановлюємо невеликий рівень наближеня\n",
    "world_map = folium.Map(location=[56.130, -106.35], zoom_start=2)\n",
    "\n",
    "# відображаємо карту світу\n",
    "world_map"
   ]
  },
  {
   "cell_type": "markdown",
   "metadata": {},
   "source": [
    "Тепер давайте створимо карту з більшим наближенням."
   ]
  },
  {
   "cell_type": "code",
   "execution_count": null,
   "metadata": {
    "scrolled": true
   },
   "outputs": [],
   "source": [
    "# визначаємо центр карти світу у Канаді та встановлюємо великий рівень наближеня\n",
    "world_map = folium.Map(location=[56.130, -106.35], zoom_start=8)\n",
    "\n",
    "# відображаємо карту світу\n",
    "world_map"
   ]
  },
  {
   "cell_type": "markdown",
   "metadata": {},
   "source": [
    "Як ви побачили, чим більше збільшення - тим більшим буде наближення на карті."
   ]
  },
  {
   "cell_type": "markdown",
   "metadata": {},
   "source": [
    "### Створіть карту, яка буде відцентрована на будинку в якому ви живете, або прожили багато часу, з великим наближенням"
   ]
  },
  {
   "cell_type": "code",
   "execution_count": null,
   "metadata": {},
   "outputs": [],
   "source": [
    "## напишіть ваш код тут\n",
    "world_map = folium.Map(location=[49.58944, 34.55111], zoom_start=15)\n",
    "\n",
    "# відображаємо карту світу\n",
    "world_map"
   ]
  },
  {
   "cell_type": "markdown",
   "metadata": {},
   "source": [
    "Ще одна цікава можливість **Folium** полягає в тому, що ви можете використовувати різні стилі карти. "
   ]
  },
  {
   "cell_type": "markdown",
   "metadata": {},
   "source": [
    "### A. Stamen Toner Maps (карта-тонер) (Stamen - дизайн студія https://stamen.com/)\n",
    "\n",
    "Можна використати висококонтрасну ЧБ (чорно-білу) карту. Вона підходить для дослідження гібридних даних, вигинів річок та прибережних зон."
   ]
  },
  {
   "cell_type": "markdown",
   "metadata": {},
   "source": [
    "Давайте створимо Stamen Toner map."
   ]
  },
  {
   "cell_type": "code",
   "execution_count": null,
   "metadata": {
    "scrolled": false
   },
   "outputs": [],
   "source": [
    "# створюємо Stamen Toner map вашої улюбленої локації, наближення оберіть самостійно\n",
    "world_map = folium.Map(location=[48.500560000027775232, 32.23194000002777670], zoom_start=20, tiles='Stamen Toner')\n",
    "\n",
    "# відображаємо карту\n",
    "world_map"
   ]
  },
  {
   "cell_type": "markdown",
   "metadata": {},
   "source": [
    "Пограйтесь з наближенням, щоб зрозуміти чим цей тип карти відрізняється від початкового."
   ]
  },
  {
   "cell_type": "markdown",
   "metadata": {},
   "source": [
    "### B. Stamen Terrain Maps (топографічна карта)\n",
    "\n",
    "Це карта, яка відображає природні кольори рослинності та затінення пагорбів. Також тут використовують просунуте маркування та  лініями позначені дороги з двостороннім шляхом."
   ]
  },
  {
   "cell_type": "markdown",
   "metadata": {},
   "source": [
    "Давайте створимо Stamen Terrain map з довільним наближенням."
   ]
  },
  {
   "cell_type": "code",
   "execution_count": null,
   "metadata": {
    "scrolled": false
   },
   "outputs": [],
   "source": [
    "# Створіть Stamen Toner map локації, використаної вище\n",
    "world_map = folium.Map(location=[49.58944, 34.55111], zoom_start=12, tiles='Stamen Terrain')\n",
    "\n",
    "# візуалізуйте карти\n",
    "world_map"
   ]
  },
  {
   "cell_type": "markdown",
   "metadata": {},
   "source": [
    "Пограйтесь з наближенням, щоб побачити основні відмінності цього стилю зі Stamen Toner та дефолтним. "
   ]
  },
  {
   "cell_type": "markdown",
   "metadata": {},
   "source": [
    "### C. Mapbox Bright Maps (Mapbox - інший розробник карт)\n",
    "\n",
    "Ці карти дуже схожі на дефолтні, крім того, що кордони країн та регіонів не видимі при малому наближенні. Крім того, на картах за дефолтом найменування країн виконано на офіційній для цієї країни мові, у *Mapbox Bright* всі найменування відображає англійською."
   ]
  },
  {
   "cell_type": "markdown",
   "metadata": {},
   "source": [
    "Давайте зробимо таку карту. Пограйтесь з картою, щоб зрозуміти як вона працює."
   ]
  },
  {
   "cell_type": "code",
   "execution_count": null,
   "metadata": {},
   "outputs": [],
   "source": [
    "# створіть карту у Mapbox Bright стилі.\n",
    "world_map = folium.Map(tiles=\"MapBox Bright\")\n",
    "# world_map = folium.Map(tiles=\"CartoDB positron\")\n",
    "\n",
    "# візуалізуйте карту\n",
    "world_map"
   ]
  },
  {
   "cell_type": "markdown",
   "metadata": {},
   "source": [
    "Зараз цей тип карти вже не існує. ЛОЛ! Прочитайте уважно текст помилки і знайдіть які ще типи карт можуть бути створені у **Folium**. Спробуйте зрозуміти, чим вони відрізняються."
   ]
  },
  {
   "cell_type": "markdown",
   "metadata": {},
   "source": [
    "### Оберіть один з типів карт, що не були використані у цьому документі, та побудуйте карту України"
   ]
  },
  {
   "cell_type": "code",
   "execution_count": null,
   "metadata": {
    "scrolled": true
   },
   "outputs": [],
   "source": [
    "## пишіть ваш код тут\n",
    "UA_map = folium.Map(location=[48.585794, 31.419693], tiles=\"openstreetmap\", zoom_start=6.5)\n",
    "UA_map"
   ]
  },
  {
   "cell_type": "markdown",
   "metadata": {},
   "source": [
    "# Карти з маркерами <a id=\"6\"></a>\n"
   ]
  },
  {
   "cell_type": "markdown",
   "metadata": {},
   "source": [
    "Завантажимо датасет у *pandas*:"
   ]
  },
  {
   "cell_type": "code",
   "execution_count": null,
   "metadata": {},
   "outputs": [],
   "source": [
    "df_incidents = pd.read_csv(\"D:\\Git\\Lab.Visualisation\\Additional files for visualization\\Police_Department_Incidents_-_2016_.csv\")\n",
    "\n",
    "print(\"Dataset read into pandas dataframe!\")"
   ]
  },
  {
   "cell_type": "markdown",
   "metadata": {},
   "source": [
    "Давайте подивимось на перші рядки цього датасету."
   ]
  },
  {
   "cell_type": "code",
   "execution_count": null,
   "metadata": {},
   "outputs": [],
   "source": [
    "df_incidents.head()"
   ]
  },
  {
   "cell_type": "markdown",
   "metadata": {},
   "source": [
    "Отже, кожний рядок складається з 13 ознак:\n",
    "> 1. **IncidntNum**: Номер інцидента\n",
    "> 2. **Category**: Категорія інцидента або злочину\n",
    "> 3. **Descript**: Опис інцидента або злочина\n",
    "> 4. **DayOfWeek**: День тижня, коли інцидент трапився\n",
    "> 5. **Date**: Дата, коли інцидент трапився\n",
    "> 6. **Time**: Час, коли інцидент трапився\n",
    "> 7. **PdDistrict**: Районний департамент поліції\n",
    "> 8. **Resolution**: Постанова злочину, стосовно того чи був затриманий злочинець чи ні\n",
    "> 9. **Address**: Найближча адреса, де інцидент мав місце\n",
    "> 10. **X**: значення довготи розташування злочина\n",
    "> 11. **Y**: значення широти розташування злочина\n",
    "> 12. **Location**: довгота та ширина у вигляді кортежу\n",
    "> 13. **PdId**: ID поліцейського департаменту"
   ]
  },
  {
   "cell_type": "markdown",
   "metadata": {},
   "source": [
    "Давайте подивимось, скільки записів у цьому датасеті"
   ]
  },
  {
   "cell_type": "code",
   "execution_count": null,
   "metadata": {},
   "outputs": [],
   "source": [
    "## напишіть ваш код нижче\n",
    "df_incidents.shape[0]"
   ]
  },
  {
   "cell_type": "markdown",
   "metadata": {},
   "source": [
    "Отже, наш датафрейм складається з 150,5 тис. злочинів, які мали місце у 2016 році. Щоб зменшити використання ресурсів, давайте попрацюємо з першою 1000 інцидентів датасету."
   ]
  },
  {
   "cell_type": "code",
   "execution_count": null,
   "metadata": {},
   "outputs": [],
   "source": [
    "# Зменьшіть датасет до його перших 500 записів\n",
    "df_incidents = df_incidents.head(500)"
   ]
  },
  {
   "cell_type": "markdown",
   "metadata": {},
   "source": [
    "Давайте перевіримо, що датасет дійсно містить 500 злочинів."
   ]
  },
  {
   "cell_type": "code",
   "execution_count": null,
   "metadata": {},
   "outputs": [],
   "source": [
    "df_incidents.shape"
   ]
  },
  {
   "cell_type": "markdown",
   "metadata": {},
   "source": [
    "Тепер, коли кількість даних зменшено, давайте візуалізуємо ці злочини у м. Сан-Франциско. Будемо використовувати дефолтний стиль та рівень наближення 12."
   ]
  },
  {
   "cell_type": "code",
   "execution_count": null,
   "metadata": {},
   "outputs": [],
   "source": [
    "# Широта та довгота Сан-Франциско\n",
    "latitude = 37.77\n",
    "longitude = -122.42"
   ]
  },
  {
   "cell_type": "code",
   "execution_count": null,
   "metadata": {},
   "outputs": [],
   "source": [
    "# Створіть карту та візуалізуйте її\n",
    "# Напишіть ваш код тут\n",
    "map_incidents = folium.Map(location=[37.77, -122.42], zoom_start= 12)\n",
    "map_incidents"
   ]
  },
  {
   "cell_type": "markdown",
   "metadata": {},
   "source": [
    "Тепер будемо накладати маркери злочинів на карту. Щоб зробити це у **Folium**, слід створити *feature group* з її власними властивостями та стилістикою, а потім - додати її на карту."
   ]
  },
  {
   "cell_type": "markdown",
   "metadata": {},
   "source": [
    "Нижче буде використовуватись функція zip(). Знайдіть цю функцію, подивіться як вона працює та допишіть приклад, який характеризує її використання."
   ]
  },
  {
   "cell_type": "code",
   "execution_count": null,
   "metadata": {},
   "outputs": [],
   "source": [
    "a = [1, 2, 3, 4, 5]\n",
    "b = [1, 2, 3, 4, 5]\n",
    "## напишіть ваш код тут\n",
    "ab = zip(a, b)\n",
    "print(list(ab))"
   ]
  },
  {
   "cell_type": "code",
   "execution_count": null,
   "metadata": {
    "scrolled": false
   },
   "outputs": [],
   "source": [
    "# Створюємо екземпляр FeatureGroup\n",
    "incidents = folium.map.FeatureGroup()\n",
    "\n",
    "# Перебираємо перші 1000 значень і включаємо їх у FeatureGroup\n",
    "for lat, lng, in zip(df_incidents.Y, df_incidents.X):\n",
    "    incidents.add_child(\n",
    "        folium.features.CircleMarker(\n",
    "            [lat, lng],\n",
    "            radius = 5, # визначаємо, наскільки виликим буде кружок маркера\n",
    "            color = \"yellow\",\n",
    "            fill_color = \"blue\",\n",
    "            fill_opacity=0.9\n",
    "        )\n",
    "    )\n",
    "\n",
    "# Додаємо інцинденти на карту\n",
    "map_incidents.add_child(incidents)\n"
   ]
  },
  {
   "cell_type": "markdown",
   "metadata": {},
   "source": [
    "Також можна додати текст, який буде спливати при наведенні мишки на маркер. Давайте зробимо так, що кожен маркер міг показати категорію злочинів, до якого він відноситься."
   ]
  },
  {
   "cell_type": "code",
   "execution_count": null,
   "metadata": {
    "scrolled": false
   },
   "outputs": [],
   "source": [
    "# Створюємо екземпляр FeatureGroup\n",
    "incidents = folium.map.FeatureGroup()\n",
    "\n",
    "# Перебираємо перші 1000 значень і включаємо їх у FeatureGroup\n",
    "for lat, lng, in zip(df_incidents.Y, df_incidents.X):\n",
    "    incidents.add_child(\n",
    "        folium.features.CircleMarker(\n",
    "            [lat, lng],\n",
    "            radius = 5, # визначаємо, наскільки виликим буде кружок маркера\n",
    "            color = \"yellow\",\n",
    "            fill_color = \"blue\",\n",
    "            fill_opacity=0.6\n",
    "        )\n",
    "    )\n",
    "\n",
    "# Додаємо спливаючий текст до кожного маркеру на карті\n",
    "latitudes = list(df_incidents.Y)\n",
    "longitudes = list(df_incidents.X)\n",
    "labels = list(df_incidents.Category)\n",
    "\n",
    "for lat, lng, label in zip(latitudes, longitudes, labels):\n",
    "    folium.Marker([lat, lng], popup=label).add_to(map_incidents)\n",
    "    \n",
    "# додаємо інцинденти на карту\n",
    "map_incidents.add_child(incidents)\n"
   ]
  },
  {
   "cell_type": "markdown",
   "metadata": {},
   "source": [
    "Чи це не прекрасно? Тепер ви знаєте, до якої категорії злочинів відноситься кожен з маркерів. Але карта виглядає дуже перевантаженою всіма цими маркерами. Однак, у **Folium** існує цікаве рішення цієї проблеми, а саме - об'єднання сусідніх маркерів по кластерам, при цьому, кожний кластер буде отримувати кількість випадків, які в ньому знаходяться. Ці кластери можна розглядати окремо від інших кластерів Сан Франциско.\n",
    "\n",
    "Для реалізації цього, ми створимо екземпляр *MarkerCluster* та додамо всі дані датафрейму до цього об'єкту."
   ]
  },
  {
   "cell_type": "code",
   "execution_count": null,
   "metadata": {},
   "outputs": [],
   "source": [
    "from folium.plugins import MarkerCluster\n",
    "\n",
    "# Давайте створимо нову копію карти Сан-Франциско\n",
    "map_incidents = folium.Map(location=[37.77, -122.42], zoom_start=12)\n",
    "\n",
    "# Створимо екземпляр кластерів з маркерами для всіх випадків датафрейму\n",
    "incidents = MarkerCluster().add_to(map_incidents)\n",
    "\n",
    "# Тепер пройдемо через всі значення датафрейму та додамо кожну точку даних у кластер\n",
    "for lat, lng, label, in zip(df_incidents.Y, df_incidents.X, df_incidents.Category):\n",
    "    folium.Marker(\n",
    "        location = [lat, lng],\n",
    "        icon = None,\n",
    "        popup = label,\n",
    "    ).add_to(incidents)\n",
    "\n",
    "# відображення карти\n",
    "map_incidents\n"
   ]
  },
  {
   "cell_type": "markdown",
   "metadata": {},
   "source": [
    "Зазначте, що коли ви зменшуєте наближення карти, всі маркери поєднуються в один кластер *глобальний кластер*, який складається зі всіх наявних кластерах на карті. Якщо збільшити наближення, *глобальний кластер* розпадеться на менші. І, якщо, наближувати далі, можна буде дійти до окремих маркерів."
   ]
  },
  {
   "cell_type": "markdown",
   "metadata": {},
   "source": [
    "# Choropleth Maps (Фонові картограми) <a id=\"8\"></a>\n",
    "\n",
    "`Choropleth` map - це тематична карта, на якій всі області зафарбовані кольорами або покриті візерунками пропорційно вимірів певної статистичної змінної, таких як щільність населення або дохід на душу населення. \n",
    "\n",
    "Фонова картограма надає можливість легко візуалізувати як відрізняються вимірювання по різним територіями. Нижче наведена фонова картограма США з показником кількості населення на квадратну милю по штатам:\n",
    "\n",
    "<img src = \"https://ibm.box.com/shared/static/2kzaknzdf6crt3n5rx6haskg3wiaklxl.png\" width = 600> "
   ]
  },
  {
   "cell_type": "markdown",
   "metadata": {},
   "source": [
    "Тепер, давайте створимо власну фонову картограму світу з рівнем міграції населення Канади."
   ]
  },
  {
   "cell_type": "markdown",
   "metadata": {},
   "source": [
    "Завантажимо дані у *pandas* датасет:"
   ]
  },
  {
   "cell_type": "code",
   "execution_count": null,
   "metadata": {},
   "outputs": [],
   "source": [
    "import pandas as pd\n",
    "import folium\n",
    "df_can = pd.read_excel('D:\\Git\\Lab.Visualisation\\Additional files for visualization\\Canada.xlsx',\n",
    "                     sheet_name=\"Canada by Citizenship\",\n",
    "                     skiprows=range(20))                      \n",
    "\n",
    "print(\"Data downloaded and read into a dataframe!\")"
   ]
  },
  {
   "cell_type": "markdown",
   "metadata": {},
   "source": [
    "Давайте подивимось на перші 5 записів датасету."
   ]
  },
  {
   "cell_type": "code",
   "execution_count": null,
   "metadata": {
    "scrolled": true
   },
   "outputs": [],
   "source": [
    "df_can.head()"
   ]
  },
  {
   "cell_type": "markdown",
   "metadata": {},
   "source": [
    "Тепер давайте подивимось розміри нашого датасету."
   ]
  },
  {
   "cell_type": "code",
   "execution_count": null,
   "metadata": {},
   "outputs": [],
   "source": [
    "## напишіть ваш код тут\n",
    "df_can.shape"
   ]
  },
  {
   "cell_type": "markdown",
   "metadata": {},
   "source": [
    "Давайте підготуємо дані - внесемо деякі зміни у оригінальний датасет для того, щоб полегшити процес створення візуалізації. "
   ]
  },
  {
   "cell_type": "code",
   "execution_count": null,
   "metadata": {
    "scrolled": true
   },
   "outputs": [],
   "source": [
    "# Приберемо з датасету стовпчики, не релевантні для нашого дослідження\n",
    "df_can.drop(['AREA','REG','DEV','Type','Coverage'], axis = 1, inplace = True)"
   ]
  },
  {
   "cell_type": "markdown",
   "metadata": {},
   "source": [
    "<font color=\"green\"> Коротко опишіть дію функції drop() та значення аргументів</font>\n",
    "\n",
    ">Drop видаляє нам потрібні стовпці ряди, якщо стовпці то axis=1 (по дефолту), якщо 0, то рядки, inplace=True - замінює наш датафрейм на новий без видалених об'єктів"
   ]
  },
  {
   "cell_type": "code",
   "execution_count": null,
   "metadata": {},
   "outputs": [],
   "source": [
    "# Давайте перейменуємо деякі стовпчики так, щоб вони стали зрозумілими\n",
    "df_can.rename (columns = {'OdName':'Country', 'AreaName':'Continent','RegName':'Region'}, inplace = True)"
   ]
  },
  {
   "cell_type": "markdown",
   "metadata": {},
   "source": [
    "<font color=\"green\"> Яку колекцію потрібно вставити у аргументи функції rename?</font>\n",
    "\n",
    "> Cловник"
   ]
  },
  {
   "cell_type": "code",
   "execution_count": null,
   "metadata": {},
   "outputs": [],
   "source": [
    "# Тепер зробимо так, щоб всі назви стовпчиків мали тип string\n",
    "df_can.columns = list(map(str, df_can.columns))"
   ]
  },
  {
   "cell_type": "markdown",
   "metadata": {},
   "source": [
    "<font color=\"green\"> Як працює заміна назв стовпчиків?</font>\n",
    "\n",
    ">ключ це стара назва, значення - нова\n",
    "\n",
    "<font color=\"green\"> Як працює функція map()? Наведіть приклад</font>\n",
    "\n",
    ">map() дає можливість застосувати функцію до кожного елементу ітерованого об'єкта -> Python викликає функцію один раз для кожного елемента ітерованого об’єкта, який ми передаємо в map(), і повертає змінений елемент у карту об’єкта."
   ]
  },
  {
   "cell_type": "code",
   "execution_count": null,
   "metadata": {},
   "outputs": [],
   "source": [
    "# Додамо стовпчик Total\n",
    "df_can['Total'] =  df_can.sum (axis = 1)"
   ]
  },
  {
   "cell_type": "markdown",
   "metadata": {},
   "source": [
    "<font color=\"green\"> Для чого наводиться (axis = 1)?</font>\n",
    "\n",
    ">стовпці то axis=1 (по дефолту), якщо 0, то рядки"
   ]
  },
  {
   "cell_type": "markdown",
   "metadata": {},
   "source": [
    "Давайте знову подивимось на перші рядки датасету"
   ]
  },
  {
   "cell_type": "code",
   "execution_count": null,
   "metadata": {},
   "outputs": [],
   "source": [
    "df_can.head()"
   ]
  },
  {
   "cell_type": "markdown",
   "metadata": {},
   "source": [
    "Для того, щоб створити фонову картограму, нам потрібен geojson файл, який визначатиме площу/межі країн, штатів/областей, районів і т.д., які нам потрібні. В нашому випадку, оскільки ми хочемо створити світову карту, нам потрібні geojson дані, які визначають кордони всіх країн. Для зручності, можна використати вже існуючий файл **world_countries.json**."
   ]
  },
  {
   "cell_type": "markdown",
   "metadata": {},
   "source": [
    "Тепер давайте створимо карту світу, з центром по координатам **[0, 0]** та наближенням із значенням 2."
   ]
  },
  {
   "cell_type": "code",
   "execution_count": null,
   "metadata": {
    "scrolled": true
   },
   "outputs": [],
   "source": [
    "world_geo = 'D:\\Git\\Lab.Visualisation\\Additional files for visualization\\world_countries.json'  # geojson файл\n",
    "\n",
    "# Створюємо звичайну карту світу\n",
    "world_map = folium.Map(location=[0, 0], zoom_start=2)\n",
    "\n",
    "# Створюємо фонову картограму світу з кількістю населення, що емігрувало або іммігрувало з Канади \n",
    "# з 1980 до 2013 року\n",
    "folium.Choropleth(\n",
    "    geo_data=world_geo,\n",
    "    data=df_can,\n",
    "    columns=['Country', 'Total'],\n",
    "    key_on='feature.properties.name',\n",
    "    fill_color='YlOrRd', \n",
    "    fill_opacity=0.7, \n",
    "    line_opacity=0.2,\n",
    "    legend_name='Immigration to Canada'\n",
    ").add_to(world_map)\n",
    "\n",
    "# Відображаємо карту\n",
    "world_map"
   ]
  },
  {
   "cell_type": "markdown",
   "metadata": {},
   "source": [
    "В легенді країни показано, що чим темніший колір країни - тим більша кількість населення мігрувавала з країни. Однак, повноцінно вона не реалізувалась. Причиною цього є не рівномірний розподіл значень від мінімального до максимального."
   ]
  },
  {
   "cell_type": "code",
   "execution_count": null,
   "metadata": {
    "scrolled": true
   },
   "outputs": [],
   "source": [
    "world_geo = 'D:\\Git\\Lab.Visualisation\\Additional files for visualization\\world_countries.json'  # geojson файл\n",
    "\n",
    "# Створюємо звичайну карту світу\n",
    "world_map = folium.Map(location=[0, 0], zoom_start=2)\n",
    "\n",
    "# Розділяємо весь діапазон датасету по квантилям\n",
    "bins = list(df_can[\"Total\"].quantile([0, 0.91, 0.99, 1]))\n",
    "\n",
    "# Створюємо фонову картограму світу з кількістю населення, що емігрувало або іммігрувало з Канади\n",
    "# з 1980 до 2013 року\n",
    "folium.Choropleth(\n",
    "    geo_data=world_geo,\n",
    "    data=df_can,\n",
    "    columns=['Country', 'Total'],\n",
    "    key_on='feature.properties.name',\n",
    "    fill_color='YlGnBu',\n",
    "    fill_opacity=1,\n",
    "    line_opacity=0.2,\n",
    "    legend_name='Immigration to Canada',\n",
    "    nan_fill_color='White',\n",
    "    bins=bins\n",
    ").add_to(world_map)\n",
    "\n",
    "world_map\n"
   ]
  },
  {
   "cell_type": "markdown",
   "metadata": {},
   "source": [
    "<font color=\"green\"> Спробуйте підібрати такі числа для легенди, щоб вона нормально читалась</font>"
   ]
  }
 ],
 "metadata": {
  "kernelspec": {
   "display_name": "Python 3",
   "language": "python",
   "name": "python3"
  },
  "language_info": {
   "codemirror_mode": {
    "name": "ipython",
    "version": 3
   },
   "file_extension": ".py",
   "mimetype": "text/x-python",
   "name": "python",
   "nbconvert_exporter": "python",
   "pygments_lexer": "ipython3",
   "version": "3.10.8"
  },
  "vscode": {
   "interpreter": {
    "hash": "a6511e6b41b26ba86cca7483749cf4dd15bf137a2672e550741a656e19bba82e"
   }
  },
  "widgets": {
   "state": {},
   "version": "1.1.2"
  }
 },
 "nbformat": 4,
 "nbformat_minor": 2
}
