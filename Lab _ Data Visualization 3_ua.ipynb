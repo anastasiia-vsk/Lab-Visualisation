{
 "cells": [
  {
   "cell_type": "markdown",
   "metadata": {},
   "source": [
    "<h1 align=center><font size = 5>Хмара слів</font></h1>"
   ]
  },
  {
   "cell_type": "markdown",
   "metadata": {},
   "source": [
    "Хмари слів (також знані як текстові хмари або хмари тегів) мають досить простий алгоритм роботи: чим частіше у джерелі текстових даних (текстах, виступах, блогах, тощо) зустрічаються специфічні слова, тим більшим шрифтом ці слова будуть виділені у текстовій хмарі."
   ]
  },
  {
   "cell_type": "markdown",
   "metadata": {},
   "source": [
    "Для цієї роботи у Python є відповідна бібліотека - `word_cloud`, розроблена **Andreas Mueller**. Більше можна прочитати за [посиланням](https://github.com/amueller/word_cloud/). Давайте використаємо її."
   ]
  },
  {
   "cell_type": "code",
   "execution_count": null,
   "metadata": {},
   "outputs": [],
   "source": [
    "%matplotlib inline\n",
    "\n",
    "import matplotlib as mpl\n",
    "import matplotlib.pyplot as plt\n",
    "\n",
    "# опціонально: стиль графіків ggplot (Ви можете загуглити \"plt.style.available\" та обрати стиль, який\n",
    "#більше подобається\n",
    "mpl.style.use('ggplot') "
   ]
  },
  {
   "cell_type": "code",
   "execution_count": null,
   "metadata": {},
   "outputs": [],
   "source": [
    "# встановіть wordcloud\n",
    "# !pip install wordcloud\n",
    "\n",
    "# імпортуємо об'єкт WordCloud та англомовний сет STOPWORDS\n",
    "from wordcloud import WordCloud, STOPWORDS\n",
    "\n",
    "print ('Wordcloud is installed and imported!')"
   ]
  },
  {
   "cell_type": "markdown",
   "metadata": {
    "collapsed": true
   },
   "source": [
    "Хмари слів використовується для проведення аналізу високого рівня та візуалізації текстових даних. Тепер давайте відійдемо від Канади та попрацюємо з текстом. Спробуємо проаналізувати *Alice's Adventures in Wonderland*, написану **Lewis Carroll**."
   ]
  },
  {
   "cell_type": "code",
   "execution_count": null,
   "metadata": {},
   "outputs": [],
   "source": [
    "STOPWORDS"
   ]
  },
  {
   "cell_type": "code",
   "execution_count": null,
   "metadata": {},
   "outputs": [],
   "source": [
    "# Відкрийте файл та зчитайте його вмість у змінну alice_novel\n",
    "alice_novel = "
   ]
  },
  {
   "cell_type": "markdown",
   "metadata": {},
   "source": [
    "Тепер давайте підготуємо перелік стопслів, взятих з `word_cloud`. Використаємо функцію *set* для того, щоб прибрати повтори. (Пам'ятаєте, що саме робить ця функція?)"
   ]
  },
  {
   "cell_type": "code",
   "execution_count": null,
   "metadata": {},
   "outputs": [],
   "source": [
    "stopwords = set(STOPWORDS)"
   ]
  },
  {
   "cell_type": "markdown",
   "metadata": {},
   "source": [
    "Створіть об'єкт WordCloud та згенеруйте хмару слів. Для економії часу при навчанні, давайте використаємо лише перші 2000 слів новели."
   ]
  },
  {
   "cell_type": "code",
   "execution_count": null,
   "metadata": {},
   "outputs": [],
   "source": [
    "# створюємо екземпляр об'єкта WordCloud\n",
    "alice_wc = WordCloud(\n",
    "    background_color='white',\n",
    "    max_words=2000,\n",
    "    stopwords=stopwords\n",
    ")\n",
    "\n",
    "# згенеруйте хмару слів\n",
    "alice_wc.generate(alice_novel)"
   ]
  },
  {
   "cell_type": "markdown",
   "metadata": {},
   "source": [
    "Чудово! Хмара слів створена, тепер слід її візуалізувати."
   ]
  },
  {
   "cell_type": "code",
   "execution_count": null,
   "metadata": {
    "scrolled": true
   },
   "outputs": [],
   "source": [
    "# візуалізуємо хмару слів\n",
    "plt.imshow(alice_wc, interpolation='bilinear')\n",
    "plt.axis('off')\n",
    "plt.show()"
   ]
  },
  {
   "cell_type": "markdown",
   "metadata": {},
   "source": [
    "Цікаво! Таким чином, у перших 2000 слів найбільш поширеними є **Alice**, **said**, **little**, **Queen** і т.д. Давайте збільшимо хмару, щоб ми могли побачити менш часті слова краще. "
   ]
  },
  {
   "cell_type": "code",
   "execution_count": null,
   "metadata": {},
   "outputs": [],
   "source": [
    "fig = plt.figure()\n",
    "fig.set_figwidth(14) # встановити ширину рисунку\n",
    "fig.set_figheight(18) # встановити висоту рисунку\n",
    "# Пограйтесь з розмірами, визначте які параметри будь для вас максимально зручними.\n",
    "\n",
    "# візуалізуйте хмару\n",
    "plt.imshow(alice_wc, interpolation='bilinear')\n",
    "plt.axis('off')\n",
    "plt.show()"
   ]
  },
  {
   "cell_type": "markdown",
   "metadata": {},
   "source": [
    "Так набагато краще! Однак, слово **said** не є інформативним для нас. Давайте додамо його у перелік стоп-слів та сформуємо словохмару наново."
   ]
  },
  {
   "cell_type": "code",
   "execution_count": null,
   "metadata": {},
   "outputs": [],
   "source": [
    "stopwords.add('said') # додаємо нове стоп-слово\n",
    "\n",
    "# створюємо словохмару наново\n",
    "alice_wc.generate(alice_novel)\n",
    "\n",
    "# візуалізуйте хмару\n",
    "fig = plt.figure()\n",
    "fig.set_figwidth(14) # встановіть ширину\n",
    "fig.set_figheight(18) # встановіть висоту\n",
    "\n",
    "plt.imshow(alice_wc, interpolation='bilinear')\n",
    "plt.axis('off')\n",
    "plt.show()"
   ]
  },
  {
   "cell_type": "markdown",
   "metadata": {},
   "source": [
    "Прекрасно! І виглядає цікаво! Іншою цікавинкою бібліотеки `word_cloud` є те, що можна вставити словохмару у рисунок будь-якої форми. Давайте використаємо маску Аліси та її кролика.(*alice_mask.png*)."
   ]
  },
  {
   "cell_type": "code",
   "execution_count": null,
   "metadata": {},
   "outputs": [],
   "source": [
    "import numpy as np\n",
    "from PIL import Image\n",
    " \n",
    "# зберігаємо маску у alice_mask\n",
    "alice_mask = np.array(Image.open('alice_mask.png'))\n",
    "    \n",
    "print('Image downloaded and saved!')"
   ]
  },
  {
   "cell_type": "markdown",
   "metadata": {},
   "source": [
    "Давайте поглянемо як виглядає маска."
   ]
  },
  {
   "cell_type": "code",
   "execution_count": null,
   "metadata": {},
   "outputs": [],
   "source": [
    "fig = plt.figure()\n",
    "fig.set_figwidth(14) # встановіть ширину\n",
    "fig.set_figheight(18) # встановіть висоту\n",
    "\n",
    "plt.imshow(alice_mask, cmap=plt.cm.gray, interpolation='bilinear')\n",
    "plt.axis('off')\n",
    "plt.show()"
   ]
  },
  {
   "cell_type": "markdown",
   "metadata": {},
   "source": [
    "По суті, процес імплементації словохмари у будь-яку маску через бібліотеку `word_cloud` є типовим. Давайте використаємо нову маску на словохмару з 2000 слів."
   ]
  },
  {
   "cell_type": "code",
   "execution_count": null,
   "metadata": {},
   "outputs": [],
   "source": [
    "# створюємо екземпляр об'єкта WordCloud\n",
    "alice_wc = WordCloud(background_color='white', max_words=2000, mask=alice_mask, stopwords=stopwords)\n",
    "\n",
    "# генеруємо словохмару\n",
    "alice_wc.generate(alice_novel)\n",
    "\n",
    "# Візуалізуємо словохмару\n",
    "fig = plt.figure()\n",
    "fig.set_figwidth(7) # встановлюємо ширину\n",
    "fig.set_figheight(9) # встановлюємо висоту\n",
    "\n",
    "plt.imshow(alice_wc, interpolation='bilinear')\n",
    "plt.axis('off')\n",
    "plt.show()"
   ]
  }
 ],
 "metadata": {
  "kernelspec": {
   "display_name": "Python 3 (ipykernel)",
   "language": "python",
   "name": "python3"
  },
  "language_info": {
   "codemirror_mode": {
    "name": "ipython",
    "version": 3
   },
   "file_extension": ".py",
   "mimetype": "text/x-python",
   "name": "python",
   "nbconvert_exporter": "python",
   "pygments_lexer": "ipython3",
   "version": "3.7.0"
  },
  "widgets": {
   "state": {},
   "version": "1.1.2"
  }
 },
 "nbformat": 4,
 "nbformat_minor": 2
}
